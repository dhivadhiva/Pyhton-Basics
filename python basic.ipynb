{
 "cells": [
  {
   "cell_type": "markdown",
   "id": "2eb34f40-cda9-4038-8b5c-58927218225d",
   "metadata": {},
   "source": [
    "Arithmetic operation"
   ]
  },
  {
   "cell_type": "markdown",
   "id": "fb1eb1f9-f835-4ff7-b732-99782fdc24d0",
   "metadata": {},
   "source": [
    "Addition"
   ]
  },
  {
   "cell_type": "code",
   "execution_count": 2,
   "id": "e11cc527-c9b3-4b19-b64e-ce3a722180f9",
   "metadata": {},
   "outputs": [
    {
     "data": {
      "text/plain": [
       "2"
      ]
     },
     "execution_count": 2,
     "metadata": {},
     "output_type": "execute_result"
    }
   ],
   "source": [
    "1+1"
   ]
  },
  {
   "cell_type": "code",
   "execution_count": 3,
   "id": "3fad0e29-0c9c-49b4-b6b9-6bca732f676f",
   "metadata": {},
   "outputs": [
    {
     "data": {
      "text/plain": [
       "416"
      ]
     },
     "execution_count": 3,
     "metadata": {},
     "output_type": "execute_result"
    }
   ],
   "source": [
    "258+158"
   ]
  },
  {
   "cell_type": "markdown",
   "id": "d90d83f2-fa45-4f8c-960c-b53dbd75759c",
   "metadata": {},
   "source": [
    "Subtraction"
   ]
  },
  {
   "cell_type": "code",
   "execution_count": 5,
   "id": "809336c4-c547-4ec8-a02a-90370f25bf40",
   "metadata": {},
   "outputs": [
    {
     "data": {
      "text/plain": [
       "5"
      ]
     },
     "execution_count": 5,
     "metadata": {},
     "output_type": "execute_result"
    }
   ],
   "source": [
    "10-5"
   ]
  },
  {
   "cell_type": "code",
   "execution_count": 6,
   "id": "075f6c61-7a8d-4869-9847-5961337a5426",
   "metadata": {},
   "outputs": [
    {
     "data": {
      "text/plain": [
       "342"
      ]
     },
     "execution_count": 6,
     "metadata": {},
     "output_type": "execute_result"
    }
   ],
   "source": [
    "800-458"
   ]
  },
  {
   "cell_type": "code",
   "execution_count": 7,
   "id": "6554c562-4673-4a2f-9f3a-6e21382916c8",
   "metadata": {},
   "outputs": [
    {
     "data": {
      "text/plain": [
       "-10"
      ]
     },
     "execution_count": 7,
     "metadata": {},
     "output_type": "execute_result"
    }
   ],
   "source": [
    "10-20"
   ]
  },
  {
   "cell_type": "markdown",
   "id": "7f53616d-74fe-4068-85a7-47b962f4342b",
   "metadata": {},
   "source": [
    "Multiplication"
   ]
  },
  {
   "cell_type": "code",
   "execution_count": 10,
   "id": "a174dd63-2444-421f-a87b-226f5e6c3864",
   "metadata": {},
   "outputs": [
    {
     "data": {
      "text/plain": [
       "4"
      ]
     },
     "execution_count": 10,
     "metadata": {},
     "output_type": "execute_result"
    }
   ],
   "source": [
    "2*2"
   ]
  },
  {
   "cell_type": "code",
   "execution_count": 11,
   "id": "00b12daa-066c-4978-858e-ced5079c01e8",
   "metadata": {},
   "outputs": [
    {
     "data": {
      "text/plain": [
       "12815"
      ]
     },
     "execution_count": 11,
     "metadata": {},
     "output_type": "execute_result"
    }
   ],
   "source": [
    "2563*5"
   ]
  },
  {
   "cell_type": "code",
   "execution_count": 12,
   "id": "6777f3bb-d757-4232-8dea-6668494c44aa",
   "metadata": {},
   "outputs": [
    {
     "data": {
      "text/plain": [
       "500"
      ]
     },
     "execution_count": 12,
     "metadata": {},
     "output_type": "execute_result"
    }
   ],
   "source": [
    "100*5"
   ]
  },
  {
   "cell_type": "markdown",
   "id": "448ea2c5-f3e9-446f-b351-f42fa0dc305d",
   "metadata": {},
   "source": [
    "Division"
   ]
  },
  {
   "cell_type": "code",
   "execution_count": 14,
   "id": "054a7e97-2f97-473e-95c4-c7e0ff104457",
   "metadata": {},
   "outputs": [
    {
     "data": {
      "text/plain": [
       "2.0"
      ]
     },
     "execution_count": 14,
     "metadata": {},
     "output_type": "execute_result"
    }
   ],
   "source": [
    "20/10"
   ]
  },
  {
   "cell_type": "code",
   "execution_count": 15,
   "id": "6f7873ab-de89-4673-9dcd-15d40ec8c86d",
   "metadata": {},
   "outputs": [
    {
     "data": {
      "text/plain": [
       "5.0"
      ]
     },
     "execution_count": 15,
     "metadata": {},
     "output_type": "execute_result"
    }
   ],
   "source": [
    "25/5"
   ]
  },
  {
   "cell_type": "code",
   "execution_count": 17,
   "id": "179272e2-5a84-4e21-9b32-cfc30bf27621",
   "metadata": {},
   "outputs": [
    {
     "data": {
      "text/plain": [
       "507.6666666666667"
      ]
     },
     "execution_count": 17,
     "metadata": {},
     "output_type": "execute_result"
    }
   ],
   "source": [
    "1523/3"
   ]
  },
  {
   "cell_type": "markdown",
   "id": "3aeab543-099c-478e-8031-73760b1f404a",
   "metadata": {},
   "source": [
    "Reminder"
   ]
  },
  {
   "cell_type": "code",
   "execution_count": 20,
   "id": "33b2d036-0c05-4cb2-b70c-a80c77ec327f",
   "metadata": {},
   "outputs": [
    {
     "data": {
      "text/plain": [
       "0"
      ]
     },
     "execution_count": 20,
     "metadata": {},
     "output_type": "execute_result"
    }
   ],
   "source": [
    "2%2"
   ]
  },
  {
   "cell_type": "code",
   "execution_count": 21,
   "id": "32109f28-0d84-4d62-87e0-05b6827ff7bf",
   "metadata": {},
   "outputs": [
    {
     "data": {
      "text/plain": [
       "1"
      ]
     },
     "execution_count": 21,
     "metadata": {},
     "output_type": "execute_result"
    }
   ],
   "source": [
    "5%2"
   ]
  },
  {
   "cell_type": "markdown",
   "id": "252987d2-7914-47be-894a-8fd4f52f61d8",
   "metadata": {},
   "source": [
    "Using multiple operator "
   ]
  },
  {
   "cell_type": "code",
   "execution_count": 29,
   "id": "b80aba8f-955d-4d87-a811-05207e329a1b",
   "metadata": {},
   "outputs": [
    {
     "data": {
      "text/plain": [
       "13"
      ]
     },
     "execution_count": 29,
     "metadata": {},
     "output_type": "execute_result"
    }
   ],
   "source": [
    "5*2+3\n",
    "#it is doing by multiplication by first to9 last "
   ]
  },
  {
   "cell_type": "code",
   "execution_count": 25,
   "id": "b934c83a-cc73-4c5d-a5ed-14f6395a5042",
   "metadata": {},
   "outputs": [],
   "source": [
    "#to avoid that we have to use paranthesis "
   ]
  },
  {
   "cell_type": "code",
   "execution_count": 28,
   "id": "2f729536-79ac-41a6-bdb5-c5d156ecd1ff",
   "metadata": {},
   "outputs": [
    {
     "data": {
      "text/plain": [
       "25"
      ]
     },
     "execution_count": 28,
     "metadata": {},
     "output_type": "execute_result"
    }
   ],
   "source": [
    "5*(2+3)\n",
    "#now it will first do the operation first in the parenthesis then multiply with 5"
   ]
  },
  {
   "cell_type": "markdown",
   "id": "adc68891-f620-4f14-b802-93f7236f461b",
   "metadata": {},
   "source": [
    "#Declaring a varible"
   ]
  },
  {
   "cell_type": "code",
   "execution_count": 32,
   "id": "2d944964-ec3f-4e04-acfc-8673edeaafbd",
   "metadata": {},
   "outputs": [],
   "source": [
    "a=10\n",
    "A=20\n",
    "apple=5\n",
    "#the word a and A is considered as different variable "
   ]
  },
  {
   "cell_type": "code",
   "execution_count": 33,
   "id": "81ab84a7-5a11-47ba-9569-2ff0cef38dc2",
   "metadata": {},
   "outputs": [
    {
     "data": {
      "text/plain": [
       "10"
      ]
     },
     "execution_count": 33,
     "metadata": {},
     "output_type": "execute_result"
    }
   ],
   "source": [
    "a"
   ]
  },
  {
   "cell_type": "code",
   "execution_count": 34,
   "id": "75e6805d-3e5a-41f3-8f38-ea6c0a682e82",
   "metadata": {},
   "outputs": [
    {
     "data": {
      "text/plain": [
       "20"
      ]
     },
     "execution_count": 34,
     "metadata": {},
     "output_type": "execute_result"
    }
   ],
   "source": [
    "A"
   ]
  },
  {
   "cell_type": "code",
   "execution_count": 35,
   "id": "a28490bd-b836-4285-b492-4793a2bb5b1c",
   "metadata": {},
   "outputs": [
    {
     "data": {
      "text/plain": [
       "5"
      ]
     },
     "execution_count": 35,
     "metadata": {},
     "output_type": "execute_result"
    }
   ],
   "source": [
    "apple"
   ]
  },
  {
   "cell_type": "code",
   "execution_count": 36,
   "id": "40f564e3-606f-4ee9-9ca6-bc7c76200779",
   "metadata": {},
   "outputs": [
    {
     "data": {
      "text/plain": [
       "200"
      ]
     },
     "execution_count": 36,
     "metadata": {},
     "output_type": "execute_result"
    }
   ],
   "source": [
    "a*A"
   ]
  },
  {
   "cell_type": "code",
   "execution_count": 37,
   "id": "52774ad7-1746-41b5-a289-7d0f68e8e3ea",
   "metadata": {},
   "outputs": [],
   "source": [
    "#assign a value by doing a caluculation then storing in a varable\n",
    "c=a+A"
   ]
  },
  {
   "cell_type": "code",
   "execution_count": 38,
   "id": "7695a4a7-b590-4138-8fb8-efccf2d8f79c",
   "metadata": {},
   "outputs": [
    {
     "data": {
      "text/plain": [
       "30"
      ]
     },
     "execution_count": 38,
     "metadata": {},
     "output_type": "execute_result"
    }
   ],
   "source": [
    "c"
   ]
  },
  {
   "cell_type": "code",
   "execution_count": 40,
   "id": "18bf8a4f-56a6-4a15-8c8b-5078c75222f0",
   "metadata": {},
   "outputs": [],
   "source": [
    "#Boolean "
   ]
  },
  {
   "cell_type": "code",
   "execution_count": 41,
   "id": "18ad6b03-4528-4d56-8292-46d4b5735a88",
   "metadata": {},
   "outputs": [
    {
     "data": {
      "text/plain": [
       "True"
      ]
     },
     "execution_count": 41,
     "metadata": {},
     "output_type": "execute_result"
    }
   ],
   "source": [
    "1>0"
   ]
  },
  {
   "cell_type": "code",
   "execution_count": 42,
   "id": "dc14e3e7-eb5d-4d28-a7cf-f7c17ac9fb38",
   "metadata": {},
   "outputs": [
    {
     "data": {
      "text/plain": [
       "True"
      ]
     },
     "execution_count": 42,
     "metadata": {},
     "output_type": "execute_result"
    }
   ],
   "source": [
    "10<100"
   ]
  },
  {
   "cell_type": "code",
   "execution_count": 43,
   "id": "f58e05c7-d028-443b-b565-a7cc8ffc7910",
   "metadata": {},
   "outputs": [
    {
     "data": {
      "text/plain": [
       "False"
      ]
     },
     "execution_count": 43,
     "metadata": {},
     "output_type": "execute_result"
    }
   ],
   "source": [
    "5>50"
   ]
  },
  {
   "cell_type": "code",
   "execution_count": 44,
   "id": "277c0d78-4635-4dde-80f9-679bb5de5273",
   "metadata": {},
   "outputs": [
    {
     "data": {
      "text/plain": [
       "True"
      ]
     },
     "execution_count": 44,
     "metadata": {},
     "output_type": "execute_result"
    }
   ],
   "source": [
    "5==5"
   ]
  },
  {
   "cell_type": "code",
   "execution_count": 45,
   "id": "5ccd72d3-9a13-4b55-aac1-7376be8c9edf",
   "metadata": {},
   "outputs": [
    {
     "data": {
      "text/plain": [
       "True"
      ]
     },
     "execution_count": 45,
     "metadata": {},
     "output_type": "execute_result"
    }
   ],
   "source": [
    "a<A"
   ]
  },
  {
   "cell_type": "code",
   "execution_count": 46,
   "id": "a7df0df9-4240-4c67-a680-9820aa9b6687",
   "metadata": {},
   "outputs": [
    {
     "data": {
      "text/plain": [
       "False"
      ]
     },
     "execution_count": 46,
     "metadata": {},
     "output_type": "execute_result"
    }
   ],
   "source": [
    "A<a"
   ]
  },
  {
   "cell_type": "markdown",
   "id": "d1664ec3-bd0d-4a98-826d-4d8b14c5f26b",
   "metadata": {},
   "source": [
    "Strings "
   ]
  },
  {
   "cell_type": "code",
   "execution_count": 47,
   "id": "2b4a6fcb-c365-4655-82e6-ee6dc0bf9d8c",
   "metadata": {},
   "outputs": [],
   "source": [
    "St='hello world '"
   ]
  },
  {
   "cell_type": "code",
   "execution_count": 49,
   "id": "001a5ec6-443a-4d5d-bb3c-6999c280a58f",
   "metadata": {},
   "outputs": [
    {
     "data": {
      "text/plain": [
       "'hello world '"
      ]
     },
     "execution_count": 49,
     "metadata": {},
     "output_type": "execute_result"
    }
   ],
   "source": [
    "St"
   ]
  },
  {
   "cell_type": "code",
   "execution_count": 52,
   "id": "92d98171-dd0e-4fea-937b-3110f3522389",
   "metadata": {},
   "outputs": [],
   "source": [
    "st='my name is '"
   ]
  },
  {
   "cell_type": "code",
   "execution_count": 53,
   "id": "3bbb855f-5242-4bde-96dd-bd9580cfc265",
   "metadata": {},
   "outputs": [
    {
     "data": {
      "text/plain": [
       "'hello world my name is '"
      ]
     },
     "execution_count": 53,
     "metadata": {},
     "output_type": "execute_result"
    }
   ],
   "source": [
    "St+st # to add two words "
   ]
  },
  {
   "cell_type": "code",
   "execution_count": 54,
   "id": "0c8d96d8-e5ff-4440-bc44-fec923c370fa",
   "metadata": {},
   "outputs": [],
   "source": [
    "name='dhivakar'"
   ]
  },
  {
   "cell_type": "code",
   "execution_count": 55,
   "id": "68101f1d-9f2d-440f-a742-675c4b3f47aa",
   "metadata": {},
   "outputs": [
    {
     "data": {
      "text/plain": [
       "'hello world my name is dhivakar'"
      ]
     },
     "execution_count": 55,
     "metadata": {},
     "output_type": "execute_result"
    }
   ],
   "source": [
    "St+st+name"
   ]
  },
  {
   "cell_type": "code",
   "execution_count": 58,
   "id": "6cbf37f7-8a99-4d96-ba57-09d85c94e765",
   "metadata": {},
   "outputs": [
    {
     "name": "stdout",
     "output_type": "stream",
     "text": [
      "St dhivakar jam\n"
     ]
    }
   ],
   "source": [
    "print(\"St {} jam\".format(name))#to print inbetween "
   ]
  },
  {
   "cell_type": "code",
   "execution_count": 59,
   "id": "52008348-22a4-41e9-b755-2188e37c6fa5",
   "metadata": {},
   "outputs": [],
   "source": [
    "#to find the length of the string (varible)"
   ]
  },
  {
   "cell_type": "code",
   "execution_count": 60,
   "id": "e477a6a1-adf6-468d-b8f1-ba373a84cb0e",
   "metadata": {},
   "outputs": [
    {
     "data": {
      "text/plain": [
       "'my name is '"
      ]
     },
     "execution_count": 60,
     "metadata": {},
     "output_type": "execute_result"
    }
   ],
   "source": [
    "st"
   ]
  },
  {
   "cell_type": "code",
   "execution_count": 62,
   "id": "7156b3f7-405e-4232-85c6-a546e2b61af9",
   "metadata": {},
   "outputs": [
    {
     "data": {
      "text/plain": [
       "11"
      ]
     },
     "execution_count": 62,
     "metadata": {},
     "output_type": "execute_result"
    }
   ],
   "source": [
    "len(st)#the len function will include space inbetween\n"
   ]
  },
  {
   "cell_type": "code",
   "execution_count": 63,
   "id": "bdd7f78a-95ee-4a1b-879a-7e7dc40af000",
   "metadata": {},
   "outputs": [
    {
     "data": {
      "text/plain": [
       "12"
      ]
     },
     "execution_count": 63,
     "metadata": {},
     "output_type": "execute_result"
    }
   ],
   "source": [
    "len(St)"
   ]
  },
  {
   "cell_type": "code",
   "execution_count": 64,
   "id": "8f8e2a63-851a-4008-b28e-61731a590de6",
   "metadata": {},
   "outputs": [
    {
     "data": {
      "text/plain": [
       "8"
      ]
     },
     "execution_count": 64,
     "metadata": {},
     "output_type": "execute_result"
    }
   ],
   "source": [
    "len(name)"
   ]
  },
  {
   "cell_type": "code",
   "execution_count": 66,
   "id": "7aa0c9c7-ae74-4065-ae90-d109f27f2ffd",
   "metadata": {},
   "outputs": [
    {
     "data": {
      "text/plain": [
       "'my number is '"
      ]
     },
     "execution_count": 66,
     "metadata": {},
     "output_type": "execute_result"
    }
   ],
   "source": [
    "st.replace('name','number')#first mention the word to be replaced from the string then the replacement word "
   ]
  },
  {
   "cell_type": "code",
   "execution_count": 67,
   "id": "0ac91321-f7d5-4ef7-a70f-28deab58da9c",
   "metadata": {},
   "outputs": [],
   "source": [
    "#String indexing "
   ]
  },
  {
   "cell_type": "code",
   "execution_count": 68,
   "id": "36935ceb-ffa9-4be9-8217-bd8d0c71ad6d",
   "metadata": {},
   "outputs": [
    {
     "data": {
      "text/plain": [
       "'my name is '"
      ]
     },
     "execution_count": 68,
     "metadata": {},
     "output_type": "execute_result"
    }
   ],
   "source": [
    "st"
   ]
  },
  {
   "cell_type": "code",
   "execution_count": 69,
   "id": "f482e645-be58-493a-a820-0a350a072221",
   "metadata": {},
   "outputs": [
    {
     "data": {
      "text/plain": [
       "'y'"
      ]
     },
     "execution_count": 69,
     "metadata": {},
     "output_type": "execute_result"
    }
   ],
   "source": [
    "st[1:2]"
   ]
  },
  {
   "cell_type": "code",
   "execution_count": 71,
   "id": "b2777544-5b10-4150-bc92-ae82926409f9",
   "metadata": {},
   "outputs": [
    {
     "data": {
      "text/plain": [
       "'my'"
      ]
     },
     "execution_count": 71,
     "metadata": {},
     "output_type": "execute_result"
    }
   ],
   "source": [
    "st[0:2]#first number is start and second is end"
   ]
  },
  {
   "cell_type": "code",
   "execution_count": 78,
   "id": "8c391a66-3f4d-4231-8981-b646be164946",
   "metadata": {},
   "outputs": [
    {
     "data": {
      "text/plain": [
       "'e is '"
      ]
     },
     "execution_count": 78,
     "metadata": {},
     "output_type": "execute_result"
    }
   ],
   "source": [
    "st[-5:]#from reverse"
   ]
  },
  {
   "cell_type": "code",
   "execution_count": null,
   "id": "85f306fe-56a5-4450-b415-ff22f39f1b8b",
   "metadata": {},
   "outputs": [],
   "source": []
  }
 ],
 "metadata": {
  "kernelspec": {
   "display_name": "Python 3",
   "language": "python",
   "name": "python3"
  },
  "language_info": {
   "codemirror_mode": {
    "name": "ipython",
    "version": 3
   },
   "file_extension": ".py",
   "mimetype": "text/x-python",
   "name": "python",
   "nbconvert_exporter": "python",
   "pygments_lexer": "ipython3",
   "version": "3.8.8"
  }
 },
 "nbformat": 4,
 "nbformat_minor": 5
}
